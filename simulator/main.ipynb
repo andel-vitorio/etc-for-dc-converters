{
 "cells": [
  {
   "cell_type": "markdown",
   "metadata": {},
   "source": [
    "# Simulador de uma Microrrede DC como CPL\n",
    "\n",
    "## Descrição\n",
    "\n",
    "Este código contém o simulador de um sistema dinâmico de uma microrrede DC com CPL.\n",
    "\n",
    "## Data de Modificação\n",
    "\n",
    "2023-12-21\n",
    "\n",
    "## Autor\n",
    "\n",
    "Andevaldo da Encarnação Vitório"
   ]
  }
 ],
 "metadata": {
  "language_info": {
   "name": "python"
  }
 },
 "nbformat": 4,
 "nbformat_minor": 2
}
